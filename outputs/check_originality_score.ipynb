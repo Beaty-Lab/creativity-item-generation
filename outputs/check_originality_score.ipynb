{
 "cells": [
  {
   "cell_type": "code",
   "execution_count": 1,
   "metadata": {},
   "outputs": [],
   "source": [
    "import pandas as pd"
   ]
  },
  {
   "cell_type": "code",
   "execution_count": 12,
   "metadata": {},
   "outputs": [],
   "source": [
    "first_round = pd.read_json(\"/home/aml7990/Code/creativity-item-generation/outputs/consequences/Llama-3.1-70B-Instruct_Llama-3.1-8B-Instruct_seed=999_item_gen_prompt=0_item_response_prompt=0_shot_selection_method=constraint satisfaction/item_responses_round_0.json\", orient=\"records\")"
   ]
  },
  {
   "cell_type": "code",
   "execution_count": 13,
   "metadata": {},
   "outputs": [
    {
     "data": {
      "text/plain": [
       "2.482456140350877"
      ]
     },
     "execution_count": 13,
     "metadata": {},
     "output_type": "execute_result"
    }
   ],
   "source": [
    "first_round[\"originality_round_0\"].mean()"
   ]
  },
  {
   "cell_type": "code",
   "execution_count": 14,
   "metadata": {},
   "outputs": [],
   "source": [
    "last_round = pd.read_json(\"/home/aml7990/Code/creativity-item-generation/outputs/consequences/Llama-3.1-70B-Instruct_Llama-3.1-8B-Instruct_seed=999_item_gen_prompt=0_item_response_prompt=0_shot_selection_method=constraint satisfaction/item_responses_round_4.json\", orient=\"records\")"
   ]
  },
  {
   "cell_type": "code",
   "execution_count": 15,
   "metadata": {},
   "outputs": [
    {
     "data": {
      "text/plain": [
       "2.796694214876033"
      ]
     },
     "execution_count": 15,
     "metadata": {},
     "output_type": "execute_result"
    }
   ],
   "source": [
    "last_round[\"originality_round_4\"].mean()"
   ]
  }
 ],
 "metadata": {
  "kernelspec": {
   "display_name": "AIG-CUDA-12.0",
   "language": "python",
   "name": "python3"
  },
  "language_info": {
   "codemirror_mode": {
    "name": "ipython",
    "version": 3
   },
   "file_extension": ".py",
   "mimetype": "text/x-python",
   "name": "python",
   "nbconvert_exporter": "python",
   "pygments_lexer": "ipython3",
   "version": "3.11.9"
  }
 },
 "nbformat": 4,
 "nbformat_minor": 2
}
