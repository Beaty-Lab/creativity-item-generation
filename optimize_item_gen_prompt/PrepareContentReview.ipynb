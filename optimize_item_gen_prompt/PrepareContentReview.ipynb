{
 "cells": [
  {
   "cell_type": "markdown",
   "metadata": {},
   "source": [
    "Prepare csvs for content review"
   ]
  },
  {
   "cell_type": "code",
   "execution_count": 1,
   "metadata": {},
   "outputs": [
    {
     "name": "stderr",
     "output_type": "stream",
     "text": [
      "/home/aml7990/miniconda3/envs/AIG/lib/python3.11/site-packages/transformers/utils/hub.py:124: FutureWarning: Using `TRANSFORMERS_CACHE` is deprecated and will be removed in v5 of Transformers. Use `HF_HOME` instead.\n",
      "  warnings.warn(\n"
     ]
    }
   ],
   "source": [
    "import torch\n",
    "import pandas as pd\n",
    "import os.path\n",
    "from sentence_transformers import SentenceTransformer, util\n",
    "from os.path import join\n",
    "item_gen_path = \"/home/aml7990/Code/creativity-item-generation/outputs/without_eval_scores/with_controversial_filter_few_shot\""
   ]
  },
  {
   "cell_type": "code",
   "execution_count": null,
   "metadata": {},
   "outputs": [],
   "source": [
    "model = SentenceTransformer(\"all-MiniLM-L6-v2\")\n",
    "dirs = [\n",
    "    d\n",
    "    for d in os.listdir(item_gen_path)\n",
    "    if os.path.isdir(os.path.join(item_gen_path, d))\n",
    "]\n",
    "all_items_round_0 = []\n",
    "all_items_round_4 = []\n",
    "for d in dirs:\n",
    "    # skip over runs that are still processing:\n",
    "    print(d)\n",
    "    files = os.listdir(join(item_gen_path, d))\n",
    "    if \"config.json\" not in files or \"items.json\" not in files or \"item_responses_round_0.json\" not in files or \"item_responses_round_4.json\" not in files:\n",
    "        continue\n",
    "    items = pd.read_json(join(item_gen_path, d, \"items.json\"))\n",
    "    if len(items) == 0:\n",
    "        continue\n",
    "\n",
    "    print(d)\n",
    "    items_round_0 = items[\n",
    "        [\"creative_scenario_round_0\", \"word_list\", \"item_gen_model_name\"]\n",
    "    ]\n",
    "    items_round_4 = items[\n",
    "        [\"creative_scenario_round_4\", \"word_list\", \"item_gen_model_name\"]\n",
    "    ]\n",
    "    items_round_0[\"embedding\"] = items_round_0[\"creative_scenario_round_0\"].apply(lambda x: model.encode(x))\n",
    "    items_round_4[\"embedding\"] = items_round_4[\"creative_scenario_round_4\"].apply(lambda x: model.encode(x))\n",
    "    config = pd.read_json(join(item_gen_path, d, \"config.json\"), orient=\"index\").T\n",
    "    combined_round_0 = items_round_0.merge(\n",
    "        config, how=\"outer\", left_on=\"item_gen_model_name\", right_on=\"itemGenModelName\"\n",
    "    )\n",
    "    combined_round_4 = items_round_4.merge(\n",
    "        config, how=\"outer\", left_on=\"item_gen_model_name\", right_on=\"itemGenModelName\"\n",
    "    )\n",
    "    all_items_round_0.append(combined_round_0)\n",
    "    all_items_round_4.append(combined_round_4)\n",
    "\n",
    "all_items_round_0 = pd.concat(all_items_round_0).reset_index(drop=True)\n",
    "all_items_round_4 = pd.concat(all_items_round_4).reset_index(drop=True)"
   ]
  },
  {
   "cell_type": "code",
   "execution_count": 9,
   "metadata": {},
   "outputs": [
    {
     "name": "stdout",
     "output_type": "stream",
     "text": [
      "401\n",
      "401\n"
     ]
    }
   ],
   "source": [
    "print(len(all_items_round_0))\n",
    "print(len(all_items_round_4))"
   ]
  },
  {
   "cell_type": "code",
   "execution_count": 10,
   "metadata": {},
   "outputs": [
    {
     "name": "stdout",
     "output_type": "stream",
     "text": [
      "401\n",
      "400\n",
      "399\n"
     ]
    },
    {
     "name": "stderr",
     "output_type": "stream",
     "text": [
      "/home/aml7990/miniconda3/envs/AIG/lib/python3.11/site-packages/sentence_transformers/util.py:41: UserWarning: Creating a tensor from a list of numpy.ndarrays is extremely slow. Please consider converting the list to a single numpy.ndarray with numpy.array() before converting to a tensor. (Triggered internally at /opt/conda/conda-bld/pytorch_1702400430266/work/torch/csrc/utils/tensor_new.cpp:261.)\n",
      "  b = torch.tensor(b)\n"
     ]
    },
    {
     "name": "stdout",
     "output_type": "stream",
     "text": [
      "398\n",
      "397\n",
      "396\n",
      "395\n",
      "394\n",
      "393\n",
      "392\n",
      "391\n",
      "390\n",
      "389\n",
      "388\n",
      "387\n",
      "386\n",
      "385\n",
      "384\n",
      "383\n",
      "382\n",
      "381\n",
      "380\n",
      "379\n",
      "378\n",
      "377\n",
      "376\n",
      "375\n",
      "374\n",
      "373\n",
      "372\n",
      "371\n",
      "370\n",
      "369\n",
      "368\n",
      "367\n",
      "366\n",
      "365\n",
      "364\n",
      "363\n",
      "362\n",
      "361\n",
      "360\n",
      "359\n",
      "358\n",
      "357\n",
      "356\n",
      "355\n",
      "354\n",
      "353\n",
      "352\n",
      "351\n",
      "350\n",
      "349\n",
      "348\n",
      "347\n",
      "346\n",
      "345\n",
      "344\n",
      "343\n",
      "342\n",
      "341\n",
      "340\n",
      "339\n",
      "338\n",
      "337\n",
      "336\n",
      "335\n",
      "334\n",
      "333\n",
      "332\n",
      "331\n",
      "330\n",
      "329\n",
      "328\n",
      "327\n",
      "326\n",
      "325\n",
      "324\n",
      "323\n",
      "322\n",
      "321\n",
      "320\n",
      "319\n",
      "318\n",
      "317\n",
      "316\n",
      "315\n",
      "314\n",
      "313\n",
      "312\n",
      "311\n",
      "310\n",
      "309\n",
      "308\n",
      "307\n",
      "306\n",
      "305\n",
      "304\n",
      "303\n",
      "302\n",
      "301\n",
      "300\n",
      "299\n"
     ]
    }
   ],
   "source": [
    "# remove items that are too similar to already existing items\n",
    "while True:\n",
    "    drop = False\n",
    "    print(len(all_items_round_0))\n",
    "    for index, row in all_items_round_0.iterrows():\n",
    "        others = all_items_round_0.loc[all_items_round_0.index != index]\n",
    "        sims = util.cos_sim(row[\"embedding\"],others[\"embedding\"].to_list())[0]\n",
    "        if len(sims[sims >= 0.95]):\n",
    "            drop = True\n",
    "            break\n",
    "    \n",
    "    if not drop or len(all_items_round_0) == 0:\n",
    "        break\n",
    "    else:\n",
    "        all_items_round_0 = all_items_round_0.loc[all_items_round_0.index != index].reset_index(drop=True)\n",
    "        "
   ]
  },
  {
   "cell_type": "code",
   "execution_count": 11,
   "metadata": {},
   "outputs": [
    {
     "name": "stdout",
     "output_type": "stream",
     "text": [
      "401\n",
      "400\n",
      "399\n",
      "398\n",
      "397\n",
      "396\n",
      "395\n",
      "394\n",
      "393\n",
      "392\n",
      "391\n",
      "390\n",
      "389\n",
      "388\n",
      "387\n",
      "386\n",
      "385\n",
      "384\n",
      "383\n",
      "382\n",
      "381\n",
      "380\n",
      "379\n",
      "378\n",
      "377\n",
      "376\n",
      "375\n",
      "374\n",
      "373\n",
      "372\n",
      "371\n",
      "370\n",
      "369\n",
      "368\n",
      "367\n",
      "366\n",
      "365\n",
      "364\n",
      "363\n",
      "362\n",
      "361\n",
      "360\n",
      "359\n",
      "358\n",
      "357\n",
      "356\n",
      "355\n",
      "354\n",
      "353\n",
      "352\n",
      "351\n",
      "350\n",
      "349\n",
      "348\n",
      "347\n",
      "346\n",
      "345\n",
      "344\n",
      "343\n",
      "342\n",
      "341\n",
      "340\n",
      "339\n",
      "338\n",
      "337\n",
      "336\n",
      "335\n",
      "334\n",
      "333\n",
      "332\n",
      "331\n",
      "330\n",
      "329\n",
      "328\n",
      "327\n",
      "326\n",
      "325\n",
      "324\n",
      "323\n",
      "322\n",
      "321\n",
      "320\n",
      "319\n",
      "318\n",
      "317\n",
      "316\n",
      "315\n",
      "314\n",
      "313\n",
      "312\n",
      "311\n",
      "310\n",
      "309\n",
      "308\n",
      "307\n",
      "306\n",
      "305\n",
      "304\n",
      "303\n",
      "302\n",
      "301\n",
      "300\n",
      "299\n",
      "298\n",
      "297\n",
      "296\n",
      "295\n",
      "294\n",
      "293\n",
      "292\n",
      "291\n",
      "290\n",
      "289\n",
      "288\n",
      "287\n",
      "286\n",
      "285\n",
      "284\n",
      "283\n",
      "282\n",
      "281\n",
      "280\n",
      "279\n",
      "278\n",
      "277\n",
      "276\n",
      "275\n",
      "274\n",
      "273\n",
      "272\n",
      "271\n",
      "270\n",
      "269\n",
      "268\n",
      "267\n",
      "266\n",
      "265\n",
      "264\n",
      "263\n",
      "262\n",
      "261\n",
      "260\n",
      "259\n",
      "258\n",
      "257\n",
      "256\n",
      "255\n",
      "254\n",
      "253\n",
      "252\n",
      "251\n",
      "250\n",
      "249\n",
      "248\n",
      "247\n",
      "246\n",
      "245\n",
      "244\n",
      "243\n",
      "242\n",
      "241\n",
      "240\n",
      "239\n",
      "238\n",
      "237\n",
      "236\n",
      "235\n",
      "234\n",
      "233\n",
      "232\n",
      "231\n",
      "230\n",
      "229\n",
      "228\n",
      "227\n",
      "226\n",
      "225\n",
      "224\n"
     ]
    }
   ],
   "source": [
    "# remove items that are too similar to already existing items\n",
    "while True:\n",
    "    drop = False\n",
    "    print(len(all_items_round_4))\n",
    "    for index, row in all_items_round_4.iterrows():\n",
    "        others = all_items_round_4.loc[all_items_round_4.index != index]\n",
    "        sims = util.cos_sim(row[\"embedding\"],others[\"embedding\"].to_list())[0]\n",
    "        if len(sims[sims >= 0.95]):\n",
    "            drop = True\n",
    "            break\n",
    "    \n",
    "    if not drop or len(all_items_round_4) == 0:\n",
    "        break\n",
    "    else:\n",
    "        all_items_round_4 = all_items_round_4.loc[all_items_round_4.index != index].reset_index(drop=True)"
   ]
  },
  {
   "cell_type": "code",
   "execution_count": 12,
   "metadata": {},
   "outputs": [],
   "source": [
    "all_items_round_0.drop(columns=\"embedding\",inplace=True)\n",
    "all_items_round_4.drop(columns=\"embedding\",inplace=True)"
   ]
  },
  {
   "cell_type": "code",
   "execution_count": 13,
   "metadata": {},
   "outputs": [],
   "source": [
    "all_items_round_4.to_csv(\"last_generated_items.csv\")\n",
    "all_items_round_0.to_csv(\"first_generated_items.csv\")"
   ]
  },
  {
   "cell_type": "code",
   "execution_count": null,
   "metadata": {},
   "outputs": [],
   "source": []
  },
  {
   "cell_type": "markdown",
   "metadata": {},
   "source": [
    "## Compute Results for Content Review"
   ]
  },
  {
   "cell_type": "code",
   "execution_count": 60,
   "metadata": {},
   "outputs": [
    {
     "data": {
      "text/plain": [
       "Index(['Idoriginal', 'Idnew', 'RoundOfGeneration', 'creative_scenario_round_4',\n",
       "       'word_list', 'item_gen_model_name', 'random_seed', 'numIter',\n",
       "       'itemGenModelName', 'useItemEvalModel', 'useItemResponseEvalModel',\n",
       "       'itemEvalModelName', 'itemResponseGenModelName',\n",
       "       'itemGenFrequencyPenalty', 'itemEvalFrequencyPenalty',\n",
       "       'itemResponseGenFrequencyPenalty', 'itemGenPresencePenalty',\n",
       "       'itemEvalPresencePenalty', 'itemResponseGenPresencePenalty',\n",
       "       'itemGenTemperature', 'itemEvalTemperature',\n",
       "       'itemResponseGenTemperature', 'itemGenTopP', 'itemEvalTopP',\n",
       "       'itemResponseGenTopP', 'itemGenPromptIdx', 'itemEvalPromptIdx',\n",
       "       'itemResponseGenPromptIdx', 'itemGenMaxTokens', 'itemEvalMaxTokens',\n",
       "       'itemResponseGenMaxTokens', 'wordlistFile', 'demographicsFile',\n",
       "       'itemGenOutputFile', 'itemEvalOutputFile', 'itemResponseGenOutputFile',\n",
       "       'numItemsPerList', 'numItemGenerationAttempts',\n",
       "       'itemResponseOriginalityModelDir', 'itemResponseQualityModelDir',\n",
       "       'shotSelectionMetric', 'itemGenNumShots', 'shotSelectionSort',\n",
       "       'shotSelectionAggregate', 'logFile', 'Complexity_rater5',\n",
       "       'Difficulty_rater5', 'Accessibility_rater5', 'Controversial_rater5',\n",
       "       'Word List Inclusion_rater5', 'Leading_rater5', 'Comments_rater5',\n",
       "       'Complexity_rater3', 'Difficulty_rater3', 'Accessibility_rater3',\n",
       "       'Controversial_rater3', 'Word List Inclusion_rater3', 'Leading_rater3',\n",
       "       'Comments_rater3', 'Complexity_rater1', 'Difficulty_rater1',\n",
       "       'Accessibility_rater1', 'Controversial_rater1',\n",
       "       'Word List Inclusion_rater1', 'Leading_rater1', 'Comments_rater1',\n",
       "       'Complexity_rater4', 'Difficulty_rater4', 'Accessibility_rater4',\n",
       "       'Controversial_rater4', 'Word List Inclusion_rater4', 'Leading_rater4',\n",
       "       'Comments_rater4', 'Complexity_rater2', 'Difficulty_rater2',\n",
       "       'Accessibility_rater2', 'Controversial_rater2',\n",
       "       'Word List Inclusion_rater2', 'Leading_rater2', 'Comments_rater2'],\n",
       "      dtype='object')"
      ]
     },
     "execution_count": 60,
     "metadata": {},
     "output_type": "execute_result"
    }
   ],
   "source": [
    "import seaborn as sns\n",
    "import pandas as pd\n",
    "\n",
    "ratings_round_4 = pd.read_csv(\"/home/aml7990/Code/creativity-item-generation/Content Review/AllItemsToScore_rated.csv\")\n",
    "ratings_round_4[\"RoundOfGeneration\"] = ratings_round_4[\"RoundOfGeneration\"].apply(lambda x: 5 if x == 2 else 1)\n",
    "ratings_round_4.columns"
   ]
  },
  {
   "cell_type": "code",
   "execution_count": null,
   "metadata": {},
   "outputs": [],
   "source": [
    "# inter rater agreement\n",
    "from pyirr.kripp_alpha import kripp_alpha\n",
    "from pyirr import kappam_fleiss\n",
    "# rater 3 is problematic\n",
    "ratings_no_3 = ratings_round_4[[\"Complexity_rater5\",\"Complexity_rater1\",]].fillna(-1).to_numpy()\n",
    "# including all raters\n",
    "ratings = ratings_round_4[[\"Complexity_rater5\",\"Complexity_rater3\",\"Complexity_rater1\"]].fillna(-1).to_numpy()\n",
    "# kripp_alpha(ratings=ratings,method=\"ordinal\")\n",
    "print(\"Not including rater 3:\")\n",
    "print(kappam_fleiss(ratings_no_3))\n",
    "\n",
    "print(\"Including rater 3:\")\n",
    "kappam_fleiss(ratings)"
   ]
  },
  {
   "cell_type": "code",
   "execution_count": 69,
   "metadata": {},
   "outputs": [
    {
     "name": "stderr",
     "output_type": "stream",
     "text": [
      "/tmp/ipykernel_504007/1945134157.py:1: UserWarning: Boolean Series key will be reindexed to match DataFrame index.\n",
      "  len(ratings_round_4.loc[ratings_round_4[\"RoundOfGeneration\"] == 5][(ratings_round_4[\"Controversial_rater1\"] == 1) | (ratings_round_4[\"Controversial_rater5\"] == 1) | (ratings_round_4[\"Controversial_rater2\"] == 1) | (ratings_round_4[\"Controversial_rater4\"] == 1)])\n"
     ]
    },
    {
     "data": {
      "text/plain": [
       "14"
      ]
     },
     "execution_count": 69,
     "metadata": {},
     "output_type": "execute_result"
    }
   ],
   "source": [
    "len(ratings_round_4.loc[ratings_round_4[\"RoundOfGeneration\"] == 5][(ratings_round_4[\"Controversial_rater1\"] == 1) | (ratings_round_4[\"Controversial_rater5\"] == 1) | (ratings_round_4[\"Controversial_rater2\"] == 1) | (ratings_round_4[\"Controversial_rater4\"] == 1)])"
   ]
  },
  {
   "cell_type": "code",
   "execution_count": 68,
   "metadata": {},
   "outputs": [
    {
     "name": "stderr",
     "output_type": "stream",
     "text": [
      "/tmp/ipykernel_504007/2600968393.py:1: UserWarning: Boolean Series key will be reindexed to match DataFrame index.\n",
      "  len(ratings_round_4.loc[ratings_round_4[\"RoundOfGeneration\"] == 1][(ratings_round_4[\"Controversial_rater1\"] == 1) | (ratings_round_4[\"Controversial_rater5\"] == 1) | (ratings_round_4[\"Controversial_rater2\"] == 1) | (ratings_round_4[\"Controversial_rater4\"] == 1)])\n"
     ]
    },
    {
     "data": {
      "text/plain": [
       "17"
      ]
     },
     "execution_count": 68,
     "metadata": {},
     "output_type": "execute_result"
    }
   ],
   "source": [
    "len(ratings_round_4.loc[ratings_round_4[\"RoundOfGeneration\"] == 1][(ratings_round_4[\"Controversial_rater1\"] == 1) | (ratings_round_4[\"Controversial_rater5\"] == 1) | (ratings_round_4[\"Controversial_rater2\"] == 1) | (ratings_round_4[\"Controversial_rater4\"] == 1)])"
   ]
  },
  {
   "cell_type": "code",
   "execution_count": 71,
   "metadata": {},
   "outputs": [
    {
     "name": "stderr",
     "output_type": "stream",
     "text": [
      "/tmp/ipykernel_504007/1034743489.py:1: UserWarning: Boolean Series key will be reindexed to match DataFrame index.\n",
      "  len(ratings_round_4.loc[ratings_round_4[\"RoundOfGeneration\"] == 5][(ratings_round_4[\"Accessibility_rater1\"] == 1) | (ratings_round_4[\"Accessibility_rater5\"] == 1) | (ratings_round_4[\"Accessibility_rater2\"] == 1) | (ratings_round_4[\"Accessibility_rater4\"] == 1)])\n"
     ]
    },
    {
     "data": {
      "text/plain": [
       "2"
      ]
     },
     "execution_count": 71,
     "metadata": {},
     "output_type": "execute_result"
    }
   ],
   "source": [
    "len(ratings_round_4.loc[ratings_round_4[\"RoundOfGeneration\"] == 5][(ratings_round_4[\"Accessibility_rater1\"] == 1) | (ratings_round_4[\"Accessibility_rater5\"] == 1) | (ratings_round_4[\"Accessibility_rater2\"] == 1) | (ratings_round_4[\"Accessibility_rater4\"] == 1)])"
   ]
  },
  {
   "cell_type": "code",
   "execution_count": 72,
   "metadata": {},
   "outputs": [
    {
     "name": "stderr",
     "output_type": "stream",
     "text": [
      "/tmp/ipykernel_504007/3971453942.py:1: UserWarning: Boolean Series key will be reindexed to match DataFrame index.\n",
      "  len(ratings_round_4.loc[ratings_round_4[\"RoundOfGeneration\"] == 1][(ratings_round_4[\"Accessibility_rater1\"] == 1) | (ratings_round_4[\"Accessibility_rater5\"] == 1) | (ratings_round_4[\"Accessibility_rater2\"] == 1) | (ratings_round_4[\"Accessibility_rater4\"] == 1)])\n"
     ]
    },
    {
     "data": {
      "text/plain": [
       "2"
      ]
     },
     "execution_count": 72,
     "metadata": {},
     "output_type": "execute_result"
    }
   ],
   "source": [
    "len(ratings_round_4.loc[ratings_round_4[\"RoundOfGeneration\"] == 1][(ratings_round_4[\"Accessibility_rater1\"] == 1) | (ratings_round_4[\"Accessibility_rater5\"] == 1) | (ratings_round_4[\"Accessibility_rater2\"] == 1) | (ratings_round_4[\"Accessibility_rater4\"] == 1)])"
   ]
  },
  {
   "cell_type": "code",
   "execution_count": 73,
   "metadata": {},
   "outputs": [
    {
     "name": "stderr",
     "output_type": "stream",
     "text": [
      "/tmp/ipykernel_504007/820750830.py:8: SettingWithCopyWarning: \n",
      "A value is trying to be set on a copy of a slice from a DataFrame.\n",
      "Try using .loc[row_indexer,col_indexer] = value instead\n",
      "\n",
      "See the caveats in the documentation: https://pandas.pydata.org/pandas-docs/stable/user_guide/indexing.html#returning-a-view-versus-a-copy\n",
      "  melted_complexity[\"mean_complexity\"] = melted_complexity[[\"Complexity_rater5\",\"Complexity_rater1\",\"Complexity_rater4\",\"Complexity_rater2\"]].mean(axis=1,numeric_only=True)\n"
     ]
    },
    {
     "data": {
      "image/png": "[encoded data removed]",
      "text/plain": [
       "<Figure size 640x480 with 1 Axes>"
      ]
     },
     "metadata": {},
     "output_type": "display_data"
    }
   ],
   "source": [
    "# graphs of annotator distributions\n",
    "import matplotlib.pyplot as plt\n",
    "sns.set_style(\"whitegrid\")\n",
    "sns.set_palette(\"colorblind\")\n",
    "\n",
    "# melted_complexity = pd.melt(ratings_round_4[[\"Complexity_rater5\",\"Complexity_rater1\",\"Complexity_rater4\",\"Complexity_rater2\", \"RoundOfGeneration\"]], value_vars=[\"RoundOfGeneration\"], var_name=\"Round\")\n",
    "melted_complexity = ratings_round_4[[\"Complexity_rater5\",\"Complexity_rater1\",\"Complexity_rater4\",\"Complexity_rater2\", \"RoundOfGeneration\"]]\n",
    "melted_complexity[\"mean_complexity\"] = melted_complexity[[\"Complexity_rater5\",\"Complexity_rater1\",\"Complexity_rater4\",\"Complexity_rater2\"]].mean(axis=1,numeric_only=True)\n",
    "# sns.distplot(ratings_round_1_complexity, label=\"Complexity - Round 1\",kde=False,)\n",
    "# sns.distplot(ratings_round_4_complexity, label=\"Complexity - Round 5\",kde=False,)\n",
    "sns.histplot(data=melted_complexity[melted_complexity[\"RoundOfGeneration\"] == 1], x=\"mean_complexity\", color=\"skyblue\", label=\"Round 1\",kde=True)\n",
    "sns.histplot(data=melted_complexity[melted_complexity[\"RoundOfGeneration\"] == 5], x=\"mean_complexity\", color=\"brown\", label=\"Round 5\",kde=True)\n",
    "plt.xlabel(\"Mean Complexity\")\n",
    "plt.title(\"Complexity Review Results\")\n",
    "plt.legend()\n",
    "plt.savefig(\"complexity_ratings.svg\",dpi=300)"
   ]
  },
  {
   "cell_type": "code",
   "execution_count": 74,
   "metadata": {},
   "outputs": [
    {
     "name": "stderr",
     "output_type": "stream",
     "text": [
      "/tmp/ipykernel_504007/988902950.py:7: SettingWithCopyWarning: \n",
      "A value is trying to be set on a copy of a slice from a DataFrame.\n",
      "Try using .loc[row_indexer,col_indexer] = value instead\n",
      "\n",
      "See the caveats in the documentation: https://pandas.pydata.org/pandas-docs/stable/user_guide/indexing.html#returning-a-view-versus-a-copy\n",
      "  melted_complexity[\"mean_complexity\"] = melted_complexity[[\"Difficulty_rater5\",\"Difficulty_rater1\",\"Difficulty_rater4\",\"Difficulty_rater2\"]].mean(axis=1,numeric_only=True)\n"
     ]
    },
    {
     "data": {
      "image/png": "[encoded data removed]",
      "text/plain": [
       "<Figure size 640x480 with 1 Axes>"
      ]
     },
     "metadata": {},
     "output_type": "display_data"
    }
   ],
   "source": [
    "import matplotlib.pyplot as plt\n",
    "sns.set_style(\"whitegrid\")\n",
    "sns.set_palette(\"colorblind\")\n",
    "\n",
    "# melted_complexity = pd.melt(ratings_round_4[[\"Complexity_rater5\",\"Complexity_rater1\",\"Complexity_rater4\",\"Complexity_rater2\", \"RoundOfGeneration\"]], value_vars=[\"RoundOfGeneration\"], var_name=\"Round\")\n",
    "melted_complexity = ratings_round_4[[\"Difficulty_rater5\",\"Difficulty_rater1\",\"Difficulty_rater4\",\"Difficulty_rater2\", \"RoundOfGeneration\"]]\n",
    "melted_complexity[\"mean_complexity\"] = melted_complexity[[\"Difficulty_rater5\",\"Difficulty_rater1\",\"Difficulty_rater4\",\"Difficulty_rater2\"]].mean(axis=1,numeric_only=True)\n",
    "# sns.distplot(ratings_round_1_complexity, label=\"Complexity - Round 1\",kde=False,)\n",
    "# sns.distplot(ratings_round_4_complexity, label=\"Complexity - Round 5\",kde=False,)\n",
    "sns.histplot(data=melted_complexity[melted_complexity[\"RoundOfGeneration\"] == 1], x=\"mean_complexity\", color=\"skyblue\", label=\"Round 1\",kde=True)\n",
    "sns.histplot(data=melted_complexity[melted_complexity[\"RoundOfGeneration\"] == 5], x=\"mean_complexity\", color=\"brown\", label=\"Round 5\",kde=True)\n",
    "plt.xlabel(\"Mean Difficulty\")\n",
    "plt.title(\"Difficulty Review Results\")\n",
    "plt.legend()\n",
    "plt.savefig(\"difficulty_ratings.svg\",dpi=300)"
   ]
  },
  {
   "cell_type": "code",
   "execution_count": null,
   "metadata": {},
   "outputs": [],
   "source": []
  }
 ],
 "metadata": {
  "kernelspec": {
   "display_name": "AIG",
   "language": "python",
   "name": "python3"
  },
  "language_info": {
   "codemirror_mode": {
    "name": "ipython",
    "version": 3
   },
   "file_extension": ".py",
   "mimetype": "text/x-python",
   "name": "python",
   "nbconvert_exporter": "python",
   "pygments_lexer": "ipython3",
   "version": "3.11.7"
  }
 },
 "nbformat": 4,
 "nbformat_minor": 2
}
